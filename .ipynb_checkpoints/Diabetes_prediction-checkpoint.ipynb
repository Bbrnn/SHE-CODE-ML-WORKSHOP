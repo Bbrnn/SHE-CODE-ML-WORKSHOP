{
 "cells": [
  {
   "cell_type": "code",
   "execution_count": 1,
   "metadata": {
    "id": "B6qQ4M8MI3td"
   },
   "outputs": [],
   "source": [
    "import pandas as pd\n",
    "import numpy as np\n",
    "import matplotlib.pyplot as plt"
   ]
  },
  {
   "cell_type": "code",
   "execution_count": 2,
   "metadata": {
    "id": "VMXMzvB6KD25"
   },
   "outputs": [],
   "source": [
    "df = pd.read_csv('diabetes.xls')"
   ]
  },
  {
   "cell_type": "code",
   "execution_count": 3,
   "metadata": {
    "colab": {
     "base_uri": "https://localhost:8080/",
     "height": 226
    },
    "id": "wVSqDTDxbB-K",
    "outputId": "578b1f28-71ab-4dc0-a486-e4506a154159"
   },
   "outputs": [
    {
     "data": {
      "text/html": [
       "<div>\n",
       "<style scoped>\n",
       "    .dataframe tbody tr th:only-of-type {\n",
       "        vertical-align: middle;\n",
       "    }\n",
       "\n",
       "    .dataframe tbody tr th {\n",
       "        vertical-align: top;\n",
       "    }\n",
       "\n",
       "    .dataframe thead th {\n",
       "        text-align: right;\n",
       "    }\n",
       "</style>\n",
       "<table border=\"1\" class=\"dataframe\">\n",
       "  <thead>\n",
       "    <tr style=\"text-align: right;\">\n",
       "      <th></th>\n",
       "      <th>Pregnancies</th>\n",
       "      <th>Glucose</th>\n",
       "      <th>BloodPressure</th>\n",
       "      <th>SkinThickness</th>\n",
       "      <th>Insulin</th>\n",
       "      <th>BMI</th>\n",
       "      <th>DiabetesPedigreeFunction</th>\n",
       "      <th>Age</th>\n",
       "      <th>Outcome</th>\n",
       "    </tr>\n",
       "  </thead>\n",
       "  <tbody>\n",
       "    <tr>\n",
       "      <th>0</th>\n",
       "      <td>6</td>\n",
       "      <td>148</td>\n",
       "      <td>72</td>\n",
       "      <td>35</td>\n",
       "      <td>0</td>\n",
       "      <td>33.6</td>\n",
       "      <td>0.627</td>\n",
       "      <td>50</td>\n",
       "      <td>1</td>\n",
       "    </tr>\n",
       "    <tr>\n",
       "      <th>1</th>\n",
       "      <td>1</td>\n",
       "      <td>85</td>\n",
       "      <td>66</td>\n",
       "      <td>29</td>\n",
       "      <td>0</td>\n",
       "      <td>26.6</td>\n",
       "      <td>0.351</td>\n",
       "      <td>31</td>\n",
       "      <td>0</td>\n",
       "    </tr>\n",
       "    <tr>\n",
       "      <th>2</th>\n",
       "      <td>8</td>\n",
       "      <td>183</td>\n",
       "      <td>64</td>\n",
       "      <td>0</td>\n",
       "      <td>0</td>\n",
       "      <td>23.3</td>\n",
       "      <td>0.672</td>\n",
       "      <td>32</td>\n",
       "      <td>1</td>\n",
       "    </tr>\n",
       "    <tr>\n",
       "      <th>3</th>\n",
       "      <td>1</td>\n",
       "      <td>89</td>\n",
       "      <td>66</td>\n",
       "      <td>23</td>\n",
       "      <td>94</td>\n",
       "      <td>28.1</td>\n",
       "      <td>0.167</td>\n",
       "      <td>21</td>\n",
       "      <td>0</td>\n",
       "    </tr>\n",
       "    <tr>\n",
       "      <th>4</th>\n",
       "      <td>0</td>\n",
       "      <td>137</td>\n",
       "      <td>40</td>\n",
       "      <td>35</td>\n",
       "      <td>168</td>\n",
       "      <td>43.1</td>\n",
       "      <td>2.288</td>\n",
       "      <td>33</td>\n",
       "      <td>1</td>\n",
       "    </tr>\n",
       "  </tbody>\n",
       "</table>\n",
       "</div>"
      ],
      "text/plain": [
       "   Pregnancies  Glucose  BloodPressure  SkinThickness  Insulin   BMI  \\\n",
       "0            6      148             72             35        0  33.6   \n",
       "1            1       85             66             29        0  26.6   \n",
       "2            8      183             64              0        0  23.3   \n",
       "3            1       89             66             23       94  28.1   \n",
       "4            0      137             40             35      168  43.1   \n",
       "\n",
       "   DiabetesPedigreeFunction  Age  Outcome  \n",
       "0                     0.627   50        1  \n",
       "1                     0.351   31        0  \n",
       "2                     0.672   32        1  \n",
       "3                     0.167   21        0  \n",
       "4                     2.288   33        1  "
      ]
     },
     "execution_count": 3,
     "metadata": {},
     "output_type": "execute_result"
    }
   ],
   "source": [
    "df.head()"
   ]
  },
  {
   "cell_type": "code",
   "execution_count": 4,
   "metadata": {
    "colab": {
     "base_uri": "https://localhost:8080/"
    },
    "id": "3D1DpDCj7H5X",
    "outputId": "1d47c014-2844-44bb-db1a-6c255edbe997"
   },
   "outputs": [
    {
     "name": "stdout",
     "output_type": "stream",
     "text": [
      "<class 'pandas.core.frame.DataFrame'>\n",
      "RangeIndex: 768 entries, 0 to 767\n",
      "Data columns (total 9 columns):\n",
      " #   Column                    Non-Null Count  Dtype  \n",
      "---  ------                    --------------  -----  \n",
      " 0   Pregnancies               768 non-null    int64  \n",
      " 1   Glucose                   768 non-null    int64  \n",
      " 2   BloodPressure             768 non-null    int64  \n",
      " 3   SkinThickness             768 non-null    int64  \n",
      " 4   Insulin                   768 non-null    int64  \n",
      " 5   BMI                       768 non-null    float64\n",
      " 6   DiabetesPedigreeFunction  768 non-null    float64\n",
      " 7   Age                       768 non-null    int64  \n",
      " 8   Outcome                   768 non-null    int64  \n",
      "dtypes: float64(2), int64(7)\n",
      "memory usage: 54.1 KB\n"
     ]
    }
   ],
   "source": [
    "df.info()"
   ]
  },
  {
   "cell_type": "markdown",
   "metadata": {
    "id": "IaMOZemi7Qun"
   },
   "source": [
    "# Exploratory Data Analysis\n",
    "\n",
    "#### Exploratory Data Analysis (EDA) is an approach in data analysis that involves investigating and visualizing data sets to summarize their main characteristics, often using statistical graphics and other data visualization methods.\n",
    "\n",
    "`ydata_profiling` (formerly known as `pandas_profiling`) is a Python library used in Exploratory Data Analysis (EDA) to generate detailed reports from a pandas DataFrame. It provides comprehensive insights into the data by summarizing the distribution of each variable, identifying missing values, detecting correlations, and highlighting potential data quality issues, all through an interactive HTML report."
   ]
  },
  {
   "cell_type": "code",
   "execution_count": 5,
   "metadata": {
    "colab": {
     "base_uri": "https://localhost:8080/"
    },
    "id": "HcTmSWMH7JOj",
    "outputId": "1523b685-f30d-47bc-f04b-928a6aa9cd41"
   },
   "outputs": [
    {
     "name": "stdout",
     "output_type": "stream",
     "text": [
      "Defaulting to user installation because normal site-packages is not writeable\n",
      "Requirement already satisfied: ydata_profiling in /home/bridget/.local/lib/python3.10/site-packages (4.8.3)\n",
      "Requirement already satisfied: requests<3,>=2.24.0 in /home/bridget/.local/lib/python3.10/site-packages (from ydata_profiling) (2.32.3)\n",
      "Requirement already satisfied: tqdm<5,>=4.48.2 in /home/bridget/.local/lib/python3.10/site-packages (from ydata_profiling) (4.66.4)\n",
      "Requirement already satisfied: htmlmin==0.1.12 in /home/bridget/.local/lib/python3.10/site-packages (from ydata_profiling) (0.1.12)\n",
      "Requirement already satisfied: visions[type_image_path]<0.7.7,>=0.7.5 in /home/bridget/.local/lib/python3.10/site-packages (from ydata_profiling) (0.7.6)\n",
      "Requirement already satisfied: statsmodels<1,>=0.13.2 in /home/bridget/.local/lib/python3.10/site-packages (from ydata_profiling) (0.14.2)\n",
      "Requirement already satisfied: imagehash==4.3.1 in /home/bridget/.local/lib/python3.10/site-packages (from ydata_profiling) (4.3.1)\n",
      "Requirement already satisfied: PyYAML<6.1,>=5.0.0 in /usr/lib/python3/dist-packages (from ydata_profiling) (5.4.1)\n",
      "Requirement already satisfied: phik<0.13,>=0.11.1 in /home/bridget/.local/lib/python3.10/site-packages (from ydata_profiling) (0.12.4)\n",
      "Requirement already satisfied: multimethod<2,>=1.4 in /home/bridget/.local/lib/python3.10/site-packages (from ydata_profiling) (1.11.2)\n",
      "Requirement already satisfied: pydantic>=2 in /home/bridget/.local/lib/python3.10/site-packages (from ydata_profiling) (2.7.4)\n",
      "Requirement already satisfied: scipy<1.14,>=1.4.1 in /home/bridget/.local/lib/python3.10/site-packages (from ydata_profiling) (1.12.0)\n",
      "Requirement already satisfied: numba<1,>=0.56.0 in /home/bridget/.local/lib/python3.10/site-packages (from ydata_profiling) (0.59.1)\n",
      "Requirement already satisfied: seaborn<0.14,>=0.10.1 in /home/bridget/.local/lib/python3.10/site-packages (from ydata_profiling) (0.13.2)\n",
      "Requirement already satisfied: pandas!=1.4.0,<3,>1.1 in /home/bridget/.local/lib/python3.10/site-packages (from ydata_profiling) (2.2.1)\n",
      "Requirement already satisfied: numpy<2,>=1.16.0 in /home/bridget/.local/lib/python3.10/site-packages (from ydata_profiling) (1.26.4)\n",
      "Requirement already satisfied: jinja2<3.2,>=2.11.1 in /home/bridget/.local/lib/python3.10/site-packages (from ydata_profiling) (3.1.4)\n",
      "Requirement already satisfied: typeguard<5,>=3 in /home/bridget/.local/lib/python3.10/site-packages (from ydata_profiling) (4.3.0)\n",
      "Requirement already satisfied: wordcloud>=1.9.1 in /home/bridget/.local/lib/python3.10/site-packages (from ydata_profiling) (1.9.3)\n",
      "Requirement already satisfied: matplotlib<3.9,>=3.2 in /home/bridget/.local/lib/python3.10/site-packages (from ydata_profiling) (3.8.3)\n",
      "Requirement already satisfied: dacite>=1.8 in /home/bridget/.local/lib/python3.10/site-packages (from ydata_profiling) (1.8.1)\n",
      "Requirement already satisfied: pillow in /usr/lib/python3/dist-packages (from imagehash==4.3.1->ydata_profiling) (9.0.1)\n",
      "Requirement already satisfied: PyWavelets in /home/bridget/.local/lib/python3.10/site-packages (from imagehash==4.3.1->ydata_profiling) (1.6.0)\n",
      "Requirement already satisfied: MarkupSafe>=2.0 in /usr/lib/python3/dist-packages (from jinja2<3.2,>=2.11.1->ydata_profiling) (2.0.1)\n",
      "Requirement already satisfied: fonttools>=4.22.0 in /home/bridget/.local/lib/python3.10/site-packages (from matplotlib<3.9,>=3.2->ydata_profiling) (4.49.0)\n",
      "Requirement already satisfied: cycler>=0.10 in /home/bridget/.local/lib/python3.10/site-packages (from matplotlib<3.9,>=3.2->ydata_profiling) (0.12.1)\n",
      "Requirement already satisfied: kiwisolver>=1.3.1 in /home/bridget/.local/lib/python3.10/site-packages (from matplotlib<3.9,>=3.2->ydata_profiling) (1.4.5)\n",
      "Requirement already satisfied: packaging>=20.0 in /home/bridget/.local/lib/python3.10/site-packages (from matplotlib<3.9,>=3.2->ydata_profiling) (23.2)\n",
      "Requirement already satisfied: python-dateutil>=2.7 in /home/bridget/.local/lib/python3.10/site-packages (from matplotlib<3.9,>=3.2->ydata_profiling) (2.9.0.post0)\n",
      "Requirement already satisfied: contourpy>=1.0.1 in /home/bridget/.local/lib/python3.10/site-packages (from matplotlib<3.9,>=3.2->ydata_profiling) (1.2.0)\n",
      "Requirement already satisfied: pyparsing>=2.3.1 in /usr/lib/python3/dist-packages (from matplotlib<3.9,>=3.2->ydata_profiling) (2.4.7)\n",
      "Requirement already satisfied: llvmlite<0.43,>=0.42.0dev0 in /home/bridget/.local/lib/python3.10/site-packages (from numba<1,>=0.56.0->ydata_profiling) (0.42.0)\n",
      "Requirement already satisfied: tzdata>=2022.7 in /home/bridget/.local/lib/python3.10/site-packages (from pandas!=1.4.0,<3,>1.1->ydata_profiling) (2024.1)\n",
      "Requirement already satisfied: pytz>=2020.1 in /usr/lib/python3/dist-packages (from pandas!=1.4.0,<3,>1.1->ydata_profiling) (2022.1)\n",
      "Requirement already satisfied: joblib>=0.14.1 in /home/bridget/.local/lib/python3.10/site-packages (from phik<0.13,>=0.11.1->ydata_profiling) (1.3.2)\n",
      "Requirement already satisfied: typing-extensions>=4.6.1 in /home/bridget/.local/lib/python3.10/site-packages (from pydantic>=2->ydata_profiling) (4.12.0)\n",
      "Requirement already satisfied: annotated-types>=0.4.0 in /home/bridget/.local/lib/python3.10/site-packages (from pydantic>=2->ydata_profiling) (0.7.0)\n",
      "Requirement already satisfied: pydantic-core==2.18.4 in /home/bridget/.local/lib/python3.10/site-packages (from pydantic>=2->ydata_profiling) (2.18.4)\n",
      "Requirement already satisfied: idna<4,>=2.5 in /usr/lib/python3/dist-packages (from requests<3,>=2.24.0->ydata_profiling) (3.3)\n",
      "Requirement already satisfied: charset-normalizer<4,>=2 in /home/bridget/.local/lib/python3.10/site-packages (from requests<3,>=2.24.0->ydata_profiling) (3.3.2)\n",
      "Requirement already satisfied: certifi>=2017.4.17 in /usr/lib/python3/dist-packages (from requests<3,>=2.24.0->ydata_profiling) (2020.6.20)\n",
      "Requirement already satisfied: urllib3<3,>=1.21.1 in /usr/lib/python3/dist-packages (from requests<3,>=2.24.0->ydata_profiling) (1.26.5)\n",
      "Requirement already satisfied: patsy>=0.5.6 in /home/bridget/.local/lib/python3.10/site-packages (from statsmodels<1,>=0.13.2->ydata_profiling) (0.5.6)\n",
      "Requirement already satisfied: attrs>=19.3.0 in /home/bridget/.local/lib/python3.10/site-packages (from visions[type_image_path]<0.7.7,>=0.7.5->ydata_profiling) (23.2.0)\n",
      "Requirement already satisfied: networkx>=2.4 in /home/bridget/.local/lib/python3.10/site-packages (from visions[type_image_path]<0.7.7,>=0.7.5->ydata_profiling) (3.3)\n",
      "Requirement already satisfied: six in /usr/lib/python3/dist-packages (from patsy>=0.5.6->statsmodels<1,>=0.13.2->ydata_profiling) (1.16.0)\n"
     ]
    }
   ],
   "source": [
    "!pip install ydata_profiling"
   ]
  },
  {
   "cell_type": "code",
   "execution_count": 7,
   "metadata": {
    "id": "W2lV_j-c7VIo"
   },
   "outputs": [
    {
     "name": "stderr",
     "output_type": "stream",
     "text": [
      "/home/bridget/.local/lib/python3.10/site-packages/tqdm/auto.py:21: TqdmWarning: IProgress not found. Please update jupyter and ipywidgets. See https://ipywidgets.readthedocs.io/en/stable/user_install.html\n",
      "  from .autonotebook import tqdm as notebook_tqdm\n"
     ]
    }
   ],
   "source": [
    "from ydata_profiling import ProfileReport"
   ]
  },
  {
   "cell_type": "code",
   "execution_count": 9,
   "metadata": {
    "id": "fXElPZzs7ZWO"
   },
   "outputs": [],
   "source": [
    "profile = ProfileReport(df,title=\"Diabetes Profiling Report\")"
   ]
  },
  {
   "cell_type": "code",
   "execution_count": null,
   "metadata": {},
   "outputs": [],
   "source": [
    "pip install ipywidgets"
   ]
  },
  {
   "cell_type": "markdown",
   "metadata": {
    "id": "hktbL8GO-foK"
   },
   "source": [
    "profile.to_file(\"diabetes.html\")\\\n",
    "it downloads the file"
   ]
  },
  {
   "cell_type": "code",
   "execution_count": null,
   "metadata": {
    "id": "YV19EHlq7iXJ"
   },
   "outputs": [],
   "source": [
    "profile#displays the analysis here"
   ]
  },
  {
   "cell_type": "markdown",
   "metadata": {
    "id": "a7p18RFT8UmI"
   },
   "source": [
    "# Prediction Using ML (Autogluon)\n",
    "\n",
    "\n",
    "\n",
    "Prediction using AutoML with `AutoGluon` automates the process of training machine learning models by automatically selecting the best algorithms and hyperparameters, streamlining the model development for accurate and efficient predictions."
   ]
  },
  {
   "cell_type": "code",
   "execution_count": null,
   "metadata": {
    "colab": {
     "base_uri": "https://localhost:8080/"
    },
    "id": "459uJS1i8Qzh",
    "outputId": "e9462d8b-2971-4939-9dfe-d0693c66aad5"
   },
   "outputs": [
    {
     "name": "stdout",
     "output_type": "stream",
     "text": [
      "Defaulting to user installation because normal site-packages is not writeable\n",
      "Collecting autogluon\n",
      "  Using cached autogluon-1.1.1-py3-none-any.whl (9.7 kB)\n",
      "Collecting autogluon.tabular[all]==1.1.1\n",
      "  Using cached autogluon.tabular-1.1.1-py3-none-any.whl (312 kB)\n",
      "Collecting autogluon.features==1.1.1\n",
      "  Using cached autogluon.features-1.1.1-py3-none-any.whl (63 kB)\n",
      "Collecting autogluon.core[all]==1.1.1\n",
      "  Using cached autogluon.core-1.1.1-py3-none-any.whl (234 kB)\n",
      "Collecting autogluon.timeseries[all]==1.1.1\n",
      "  Using cached autogluon.timeseries-1.1.1-py3-none-any.whl (148 kB)\n",
      "Collecting autogluon.multimodal==1.1.1\n",
      "  Using cached autogluon.multimodal-1.1.1-py3-none-any.whl (427 kB)\n",
      "Requirement already satisfied: scipy<1.13,>=1.5.4 in /home/bridget/.local/lib/python3.10/site-packages (from autogluon.core[all]==1.1.1->autogluon) (1.12.0)\n",
      "Requirement already satisfied: requests in /home/bridget/.local/lib/python3.10/site-packages (from autogluon.core[all]==1.1.1->autogluon) (2.32.3)\n",
      "Collecting autogluon.common==1.1.1\n",
      "  Using cached autogluon.common-1.1.1-py3-none-any.whl (64 kB)\n",
      "Requirement already satisfied: pandas<2.3.0,>=2.0.0 in /home/bridget/.local/lib/python3.10/site-packages (from autogluon.core[all]==1.1.1->autogluon) (2.2.1)\n",
      "Requirement already satisfied: networkx<4,>=3.0 in /home/bridget/.local/lib/python3.10/site-packages (from autogluon.core[all]==1.1.1->autogluon) (3.3)\n",
      "Collecting boto3<2,>=1.10\n",
      "  Downloading boto3-1.34.136-py3-none-any.whl (139 kB)\n",
      "\u001b[2K     \u001b[38;2;114;156;31m━━━━━━━━━━━━━━━━━━━━━━━━━━━━━━━━━━━━━━\u001b[0m \u001b[32m139.2/139.2 KB\u001b[0m \u001b[31m33.8 kB/s\u001b[0m eta \u001b[36m0:00:00\u001b[0m kB/s\u001b[0m eta \u001b[36m0:00:01\u001b[0m:01\u001b[0m\n",
      "\u001b[?25hRequirement already satisfied: numpy<1.29,>=1.21 in /home/bridget/.local/lib/python3.10/site-packages (from autogluon.core[all]==1.1.1->autogluon) (1.26.4)\n",
      "Requirement already satisfied: tqdm<5,>=4.38 in /home/bridget/.local/lib/python3.10/site-packages (from autogluon.core[all]==1.1.1->autogluon) (4.66.4)\n",
      "Requirement already satisfied: matplotlib in /home/bridget/.local/lib/python3.10/site-packages (from autogluon.core[all]==1.1.1->autogluon) (3.8.3)\n",
      "Collecting scikit-learn<1.4.1,>=1.3.0\n",
      "  Using cached scikit_learn-1.4.0-1-cp310-cp310-manylinux_2_17_x86_64.manylinux2014_x86_64.whl (12.1 MB)\n",
      "Collecting ray[default]<2.11,>=2.10.0\n",
      "  Using cached ray-2.10.0-cp310-cp310-manylinux2014_x86_64.whl (65.1 MB)\n",
      "Collecting hyperopt<0.2.8,>=0.2.7\n",
      "  Using cached hyperopt-0.2.7-py2.py3-none-any.whl (1.6 MB)\n",
      "Collecting text-unidecode<1.4,>=1.3\n",
      "  Using cached text_unidecode-1.3-py2.py3-none-any.whl (78 kB)\n",
      "Collecting timm<0.10.0,>=0.9.5\n",
      "  Using cached timm-0.9.16-py3-none-any.whl (2.2 MB)\n",
      "Collecting pytorch-metric-learning<2.4,>=1.3.0\n",
      "  Using cached pytorch_metric_learning-2.3.0-py3-none-any.whl (115 kB)\n",
      "Collecting evaluate<0.5.0,>=0.4.0\n",
      "  Downloading evaluate-0.4.2-py3-none-any.whl (84 kB)\n",
      "\u001b[2K     \u001b[38;2;114;156;31m━━━━━━━━━━━━━━━━━━━━━━━━━━━━━━━━━━━━━━━━\u001b[0m \u001b[32m84.1/84.1 KB\u001b[0m \u001b[31m11.2 kB/s\u001b[0m eta \u001b[36m0:00:00\u001b[0m31m11.0 kB/s\u001b[0m eta \u001b[36m0:00:01\u001b[0m\n",
      "\u001b[?25hCollecting scikit-image<0.21.0,>=0.19.1\n",
      "  Downloading scikit_image-0.20.0-cp310-cp310-manylinux_2_17_x86_64.manylinux2014_x86_64.whl (13.2 MB)\n",
      "\u001b[2K     \u001b[38;2;249;38;114m━\u001b[0m\u001b[38;5;237m╺\u001b[0m\u001b[38;5;237m━━━━━━━━━━━━━━━━━━━━━━━━━━━━━━━━━━━━━━\u001b[0m \u001b[32m0.5/13.2 MB\u001b[0m \u001b[31m21.6 kB/s\u001b[0m eta \u001b[36m0:09:48\u001b[0m"
     ]
    }
   ],
   "source": [
    "#Install autogluon\n",
    "!pip install autogluon"
   ]
  },
  {
   "cell_type": "code",
   "execution_count": 1,
   "metadata": {
    "id": "i98hLQWq8pPp"
   },
   "outputs": [],
   "source": [
    "# from autogluon tabular, import TabularDataset and TabularPredictor\n",
    "from autogluon.tabular import TabularDataset,TabularPredictor"
   ]
  },
  {
   "cell_type": "markdown",
   "metadata": {
    "id": "zwFoICbT87i1"
   },
   "source": [
    "#### Load the dataset into AutoGluon"
   ]
  },
  {
   "cell_type": "markdown",
   "metadata": {
    "id": "3-EfzBM182hc"
   },
   "source": []
  },
  {
   "cell_type": "code",
   "execution_count": 2,
   "metadata": {
    "colab": {
     "base_uri": "https://localhost:8080/",
     "height": 179
    },
    "id": "FQrcZpBp8ke9",
    "outputId": "cf38a429-120b-46f2-f12f-f175915f2118"
   },
   "outputs": [
    {
     "ename": "NameError",
     "evalue": "name 'df' is not defined",
     "output_type": "error",
     "traceback": [
      "\u001b[0;31m---------------------------------------------------------------------------\u001b[0m",
      "\u001b[0;31mNameError\u001b[0m                                 Traceback (most recent call last)",
      "\u001b[0;32m<ipython-input-2-44f43fccd0ee>\u001b[0m in \u001b[0;36m<cell line: 1>\u001b[0;34m()\u001b[0m\n\u001b[0;32m----> 1\u001b[0;31m \u001b[0mdata\u001b[0m \u001b[0;34m=\u001b[0m \u001b[0mTabularDataset\u001b[0m\u001b[0;34m(\u001b[0m\u001b[0mdf\u001b[0m\u001b[0;34m)\u001b[0m\u001b[0;34m\u001b[0m\u001b[0;34m\u001b[0m\u001b[0m\n\u001b[0m",
      "\u001b[0;31mNameError\u001b[0m: name 'df' is not defined"
     ]
    }
   ],
   "source": [
    "data = TabularDataset(df)"
   ]
  }
 ],
 "metadata": {
  "accelerator": "GPU",
  "colab": {
   "gpuType": "T4",
   "provenance": []
  },
  "kernelspec": {
   "display_name": "Python 3 (ipykernel)",
   "language": "python",
   "name": "python3"
  },
  "language_info": {
   "codemirror_mode": {
    "name": "ipython",
    "version": 3
   },
   "file_extension": ".py",
   "mimetype": "text/x-python",
   "name": "python",
   "nbconvert_exporter": "python",
   "pygments_lexer": "ipython3",
   "version": "3.10.12"
  }
 },
 "nbformat": 4,
 "nbformat_minor": 4
}
